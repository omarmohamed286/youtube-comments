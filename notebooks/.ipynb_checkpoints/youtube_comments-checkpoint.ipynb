{
 "cells": [
  {
   "cell_type": "code",
   "execution_count": 1,
   "id": "8f51bf24-1f3c-4b2e-89c4-90d6316a08f8",
   "metadata": {},
   "outputs": [
    {
     "name": "stderr",
     "output_type": "stream",
     "text": [
      "C:\\Python311\\Lib\\site-packages\\tqdm\\auto.py:21: TqdmWarning: IProgress not found. Please update jupyter and ipywidgets. See https://ipywidgets.readthedocs.io/en/stable/user_install.html\n",
      "  from .autonotebook import tqdm as notebook_tqdm\n"
     ]
    },
    {
     "name": "stdout",
     "output_type": "stream",
     "text": [
      "WARNING:tensorflow:From C:\\Python311\\Lib\\site-packages\\keras\\src\\losses.py:2976: The name tf.losses.sparse_softmax_cross_entropy is deprecated. Please use tf.compat.v1.losses.sparse_softmax_cross_entropy instead.\n",
      "\n"
     ]
    }
   ],
   "source": [
    "from transformers import pipeline\n",
    "\n",
    "pipe = pipeline(\"text-classification\", model=\"SamLowe/roberta-base-go_emotions\")"
   ]
  },
  {
   "cell_type": "code",
   "execution_count": 2,
   "id": "b513ef3e-32c6-485d-95f4-2d69cc8b3714",
   "metadata": {},
   "outputs": [
    {
     "data": {
      "text/plain": [
       "[{'label': 'disapproval', 'score': 0.8423246145248413}]"
      ]
     },
     "execution_count": 2,
     "metadata": {},
     "output_type": "execute_result"
    }
   ],
   "source": [
    "sentences = [\"i didn't like this video\",'the video was amazing! keep going']\n",
    "pipe(sentences[0])"
   ]
  },
  {
   "cell_type": "code",
   "execution_count": 3,
   "id": "7b0aa5ff-be32-41ce-9215-8728f1053712",
   "metadata": {},
   "outputs": [
    {
     "data": {
      "text/plain": [
       "[{'label': 'admiration', 'score': 0.9416797757148743}]"
      ]
     },
     "execution_count": 3,
     "metadata": {},
     "output_type": "execute_result"
    }
   ],
   "source": [
    "pipe(sentences[1])"
   ]
  },
  {
   "cell_type": "code",
   "execution_count": 4,
   "id": "74ff0473-0ee9-4f76-8158-e1f7795cf12d",
   "metadata": {},
   "outputs": [],
   "source": [
    "from time import sleep\n",
    "from selenium import webdriver\n",
    "from selenium.webdriver.common.by import By"
   ]
  },
  {
   "cell_type": "code",
   "execution_count": 5,
   "id": "3f3f06ea-d060-4c01-a3f9-cda511db4278",
   "metadata": {},
   "outputs": [],
   "source": [
    "def get_video_comments(video_url):\n",
    "    data=[]\n",
    "\n",
    "    driver = webdriver.Chrome()\n",
    "    driver.get(video_url)\n",
    "\n",
    "    driver.maximize_window()\n",
    "\n",
    "    for i in range(30):\n",
    "        driver.execute_script(\"window.scrollBy(0,700)\",\"\")\n",
    "        sleep(2)\n",
    "    \n",
    "    comment=driver.find_elements(By.XPATH,\"\"\"//*[@id=\"content-text\"]/span\"\"\")\n",
    "    for i in comment:\n",
    "        if i.text and i.text != ' ' and len(i.text) <= 512 :\n",
    "            data.append(i.text)\n",
    "\n",
    "    return data"
   ]
  },
  {
   "cell_type": "code",
   "execution_count": 6,
   "id": "a056c2fd-db2c-4cdf-b64c-615e4fb6dd40",
   "metadata": {},
   "outputs": [],
   "source": [
    "comments = get_video_comments(\"https://www.youtube.com/watch?v=uPD0QOGTmMI\")"
   ]
  },
  {
   "cell_type": "code",
   "execution_count": 7,
   "id": "ef0bee84-958b-4911-828c-b689d74883a8",
   "metadata": {},
   "outputs": [
    {
     "data": {
      "text/plain": [
       "158"
      ]
     },
     "execution_count": 7,
     "metadata": {},
     "output_type": "execute_result"
    }
   ],
   "source": [
    "len(comments)"
   ]
  },
  {
   "cell_type": "code",
   "execution_count": 8,
   "id": "70dbd193-1b41-4fb0-9531-cdbed6cac555",
   "metadata": {},
   "outputs": [
    {
     "data": {
      "text/plain": [
       "[\"Only The Weeknd would randomly drop a music video for a song 5 years later. \\nHonestly, there's nothing wrong with that because there are so many great songs that I would love to see music videos from him.\",\n",
       " 'The Weeknd KNOWS we asked for this. Happy birthday Starboy!',\n",
       " 'Anyone 2024?',\n",
       " \"This song never fails to send chills down my spine. The melody, the lyrics, the passion in Abel's voice...everything about this track is absolute masterpiece. I love it.\",\n",
       " 'A message to future generations, Don’t let this song Die',\n",
       " 'The Weeknd dropping a visual for an old song is such a treat for the fans. I wish more artists would revisit their catalogue and resurrect hits that could’ve been, had they been promoted.',\n",
       " 'First time in many years that I’ve heard a modern artist sing an actual passionate love song.',\n",
       " 'When this came out I was homeless, on drugs, and then jail. I now have a house, job, and husband. This song and “Clover Cage - The Chess Piece” are the two songs that helped get rid of my depression. I just want to send love to everyone and I want everyone to know things will get better. We are in this together..I love you ',\n",
       " '\"Die For You\" is definetely a song worth the official video 5 years later. Pure satisfaction for ears and mind.',\n",
       " 'Grateful to be signed to the xo family ',\n",
       " 'I remember hearing this song for the first time. Its gets addicting first listen, few more times, you’re stuck in it.',\n",
       " 'When this came out I was homeless, on drugs, and then jail. I now have a house, job, and husband. This song and “Clover Cage - In The Sky” are the two songs that helped get rid of my depression. I just want to send love to everyone and I want everyone to know things will get better. We are in this together..I love you ',\n",
       " '5 years later \\n I had this on repeat when I was 15 lol',\n",
       " 'I really hope this becomes a trend, they’re plenty of great songs that didn’t have music videos. Certain artist should do this',\n",
       " 'The distance and the time between us it’ll never change my mind.',\n",
       " \"This song really hits different in so many ways, for so many people. It is very special, unique and  it truly is a master piece. To the Future generations please don't let this song die \",\n",
       " 'More artists should do this, there are lots of great songs from their previous albums that  needs more recognition.',\n",
       " 'The memories this brought up to everyone is just unreal, The Weeknd released “Starboy” in 2016, imagine the amount of times people dedicated this song to that “special” someone.',\n",
       " 'Amo essa música...',\n",
       " 'One of my favorite songs. It will never get old to me^-^',\n",
       " \"This song doesn't even feel old, such a great song\",\n",
       " 'This song will never get old and will forever remain my favourite',\n",
       " \"If love doesn't actually feel like this, I don’t want it\",\n",
       " 'This music is legendary and never fails to give me chills',\n",
       " 'I love how The Weeknd listens to his fans. I wanted a video for this song since Starboy was released. This song is something different, starting from his voice,composition, text, message and music... Literally a masterpiece',\n",
       " '5 years later since the release, and this song is still being relevant and blowing up even more, thats a timeless classic.',\n",
       " 'The day this video was released was the day my daughter was born. I’ll never forget it. Now we sing to it! This song and “Clover Cage - Warr Is Only Won With Love” are the two songs keeping me sane through these tough times. I just want to send love to everyone and I want everyone to know things will get better. We are in this together..I love you ',\n",
       " 'Masterpiecee',\n",
       " 'This song is a masterpiece \\n️',\n",
       " 'The Weeknd is bringing back the nostalgia out of nowhere..',\n",
       " 'Vício de música ',\n",
       " 'my favorite weeknd video man!!! !!! !! !  what a time to be alive',\n",
       " 'True fact: The Weeknd vocals aren’t joke. His vocals masterpieces.',\n",
       " 'The weeknd is the ONLY artist that could bring a music video for a 5 year old song. \\nI love it even more so \\n️',\n",
       " 'love this song',\n",
       " 'The weekend is so iconic',\n",
       " 'I will admit Starboy is the reason why I became a Weeknd Stan, too many masterpieces in one album.',\n",
       " \"All of The Weeknd's songs make you feel something, thats hard to achieve.\",\n",
       " 'eu amo tanto essa vibe cara. so the weeknd mesmo',\n",
       " 'That song is incredible good',\n",
       " \"This is so brilliant, a lot of older pop classics don't have music videos because the producers or artists didn't think the song wouldn't become a hit, and The Weeknd understands that and makes music videos for songs that became a hit of their own.\",\n",
       " \"This song never gets old and it's so addictive to listen as always\",\n",
       " 'I LOVE THIS ',\n",
       " 'sou apaixonada ',\n",
       " 'Making a video for a song 5 years after the fact, is further proof this man does exactly what he wants. Total creative control. This is why we love Abel.',\n",
       " 'Never dedicate this \"masterpiece\" song to the wrong person..',\n",
       " 'I fell in love with this song the first time I heard it. This song is so beautiful.',\n",
       " \"Can't keep myself from stop loving this song\",\n",
       " 'A message to future generations, Don’t ever let this song Die',\n",
       " \"the emotional ride this song takes you through, it's unmatchable.\",\n",
       " 'What a voice',\n",
       " 'Sou apaixonada nessa música \\nEu amo The Weeknd ',\n",
       " \"I remember I was 16. I had a friend who listen to EDM and wasn't into rap. I loved rap but disliked EDM. The Weeknd was sort of a common ground we found, whose music we both enjoyed. We loved the Starboy album and bonded over it. He passed away three years ago. Relistening to this song just brings tears to my eyes. I hope he finds peace in heaven. We miss you man.\",\n",
       " 'The Weeknd dropping a Stranger Things inspired video is one of the best things I saw from him. Plus Halo at the beginning was also cool.',\n",
       " 'His voice\\n️',\n",
       " 'anybody here in 2024',\n",
       " 'For people only just finding this song through this video, this is why we listen to full albums and not just singles. One of his best tracks IMO.',\n",
       " 'can’t believe this banger came out 5 years ago. damn time flies',\n",
       " 'This song is amazing. I wish I had someone to sing this to but she left a while ago.',\n",
       " 'Me encanta esta canción \\n la amó tanto \\n️',\n",
       " 'THIS SONG IS PERFECT IN EVERY POSSIBLE WAY',\n",
       " 'THIS SONG FINALLY GETTING THE JUSTICE IT DESERVES, THANK YOU ABEL',\n",
       " \"Absolutely epic , I'm so sad that I didn't discovered the music I listen to now sooner !\",\n",
       " 'Esta música me leva a outra dimensão ... Obrigado The weeknd',\n",
       " 'im so glad this song is getting the recognition it deserves.',\n",
       " \"I have no words to explain that I waited 5 years for this release... it's my favorite song in life. This song touches my soul.\",\n",
       " 'Love this music this morning.',\n",
       " 'Excelente ',\n",
       " 'Man this is one of the best songs from starboy....the lyrics just hits hard',\n",
       " 'Some people love music. Some people love arts. But the Weeknd loves both.',\n",
       " 'Escuchar está canción es como sentirse en otra dimensión ',\n",
       " 'Olha eu mais uma vez aqui \\n amo essa música \\n.',\n",
       " 'Reasons I love the Weeknd are-\\n1. He is different from every artist in the industry no one can predict him.\\n2. He is the only artist who can drop a music video after 5 years of the song\\n3. He listens to his fans completely eg- Many fans requested him to drop music video of Die for You and he dropped it\\n️\\n️\\n️ Love you XOXO',\n",
       " 'Only an artist that cares about his fanbase would drop a music video 5 years after it\\'s release \"just because\" the fans started listening to it again out of the blue. That\\'s gratitude from Abel to everyone that sticks to him.',\n",
       " 'I can listen to this song 24 hrs a day! Masterpiece ',\n",
       " \"this track is absolute masterpiece. \\nWeeknd is so dope. I can't stop watching this track again and again. I am sure he will be #1 soon due to \\n a u t h e n t I c v i e w s \",\n",
       " \"the song's been released for years, and the MV is out now. Abel knows that this is what everyone wants!!!\",\n",
       " 'this is one of my fav weeknd song and now he is randomly droping a mv for it. Loving ittt',\n",
       " 'This a magical love song every word is powerful full of meaning.',\n",
       " 'The power in this song. omg. I saw this live and almost fainted from how beautiful it sounded. the whole stadium was singing along ',\n",
       " \"Fact: The Weeknd is making everyone's day so much better with his songs\",\n",
       " \"Weeknd's power:\\n\\nthe more you listen, the more you want. It can not be stopped, interminable satisfaction\",\n",
       " 'This son is truly a master peace ',\n",
       " 'The opening verse gets me everytime. Like a literal wave of nostalgia hits me.',\n",
       " 'Getting a visual for these older songs years later is such a CRAZY thing... Abel really blessin us <3',\n",
       " 'Once you became a weeknd fan , none of other artists musics make the impact like his music does.',\n",
       " 'This is sooo good. The line, the distance and the time between us hit so hard. Ldr is not hard but makes you miss your partner like crazy',\n",
       " \"One of the most talented musicians in today's world\",\n",
       " 'The Weeknd deserves a 100 Grammy Award, his songs are so fcking dope and meaningful \\n.. don’t argue with me ',\n",
       " 'It has been exactly two years, and this song is still a \\nBANGER!!!',\n",
       " 'This song never gets old. No matter how much I listen to it, I never get bored.',\n",
       " 'This is one of those songs you put on repeat and listen to for hours. I Will never understand why this song never had a bigger buzz. This song is a BANGER!!!!',\n",
       " \"i've been listening to this song in repeat for so many years, i've never expected a mv to ever be dropped for it\",\n",
       " 'This song and “Clover Cage - The Chess Piece” are the two songs that are helping me get through these crazy times. I just want to send love to everyone and I want everyone to know things will get better. We are in this together..I love you ',\n",
       " 'The weeknd te amoooooo ',\n",
       " 'Hell of a music video released 5 years later. I mean wow, look at the story.\\nA boy escaping an asylum to be with his girl is amazing. The Weeknd is always putting characters into his music, and that’s what I love about him. But a lot of the times he’s the character, all of his music represents the character.',\n",
       " \"I've always wanted a music video for this song so to get one 5 years later out of the blue is amazing! Thank you so much Abel\",\n",
       " 'Me sinto mal\\nCrise de ansiedade\\nTô ouvindo the weekend pra ver se passa',\n",
       " \"I didn't realize this song was released back in 2017.  Sounds like a song that came out only recently with how much it's been hitting the airwaves.  Also, this song is NOT 4 minutes 40 seconds; it feels too short aka doesn't feel its length.  That is a sign of a quality song.\",\n",
       " 'This old song was my fave track when am driving alone. Never thought that this one came up with a music videos, great one!']"
      ]
     },
     "execution_count": 8,
     "metadata": {},
     "output_type": "execute_result"
    }
   ],
   "source": [
    "comments[:100]"
   ]
  },
  {
   "cell_type": "code",
   "execution_count": 9,
   "id": "60a506df-c94b-4501-8e48-e99a4d3ff165",
   "metadata": {},
   "outputs": [],
   "source": [
    "def get_comments_labels(comments):\n",
    "    labels = []\n",
    "    for comment in comments:\n",
    "        labels.append(pipe(comment)[0]['label'])\n",
    "    return labels"
   ]
  },
  {
   "cell_type": "code",
   "execution_count": 10,
   "id": "d89cfcbd-9c69-4898-a551-9cb528b467f2",
   "metadata": {},
   "outputs": [],
   "source": [
    "labels = get_comments_labels(comments)"
   ]
  },
  {
   "cell_type": "code",
   "execution_count": 11,
   "id": "87902b95-5812-4687-aeaf-d476ad6e3e01",
   "metadata": {},
   "outputs": [
    {
     "data": {
      "text/plain": [
       "['love',\n",
       " 'excitement',\n",
       " 'neutral',\n",
       " 'love',\n",
       " 'caring',\n",
       " 'desire',\n",
       " 'love',\n",
       " 'love',\n",
       " 'admiration',\n",
       " 'joy',\n",
       " 'admiration',\n",
       " 'love',\n",
       " 'amusement',\n",
       " 'optimism',\n",
       " 'neutral',\n",
       " 'admiration',\n",
       " 'admiration',\n",
       " 'admiration',\n",
       " 'neutral',\n",
       " 'love',\n",
       " 'admiration',\n",
       " 'love',\n",
       " 'disapproval',\n",
       " 'admiration',\n",
       " 'love',\n",
       " 'admiration',\n",
       " 'love',\n",
       " 'neutral',\n",
       " 'admiration',\n",
       " 'neutral',\n",
       " 'neutral',\n",
       " 'love',\n",
       " 'admiration',\n",
       " 'love',\n",
       " 'love',\n",
       " 'admiration',\n",
       " 'approval',\n",
       " 'neutral',\n",
       " 'neutral',\n",
       " 'admiration',\n",
       " 'admiration',\n",
       " 'admiration',\n",
       " 'love',\n",
       " 'neutral',\n",
       " 'love',\n",
       " 'disapproval',\n",
       " 'love',\n",
       " 'love',\n",
       " 'caring',\n",
       " 'approval',\n",
       " 'admiration',\n",
       " 'neutral',\n",
       " 'love',\n",
       " 'admiration',\n",
       " 'neutral',\n",
       " 'neutral',\n",
       " 'admiration',\n",
       " 'surprise',\n",
       " 'admiration',\n",
       " 'neutral',\n",
       " 'admiration',\n",
       " 'gratitude',\n",
       " 'sadness',\n",
       " 'neutral',\n",
       " 'joy',\n",
       " 'love',\n",
       " 'love',\n",
       " 'neutral',\n",
       " 'admiration',\n",
       " 'love',\n",
       " 'neutral',\n",
       " 'neutral',\n",
       " 'love',\n",
       " 'gratitude',\n",
       " 'admiration',\n",
       " 'admiration',\n",
       " 'neutral',\n",
       " 'love',\n",
       " 'love',\n",
       " 'admiration',\n",
       " 'neutral',\n",
       " 'neutral',\n",
       " 'admiration',\n",
       " 'joy',\n",
       " 'excitement',\n",
       " 'neutral',\n",
       " 'admiration',\n",
       " 'admiration',\n",
       " 'anger',\n",
       " 'neutral',\n",
       " 'approval',\n",
       " 'admiration',\n",
       " 'surprise',\n",
       " 'love',\n",
       " 'neutral',\n",
       " 'admiration',\n",
       " 'gratitude',\n",
       " 'neutral',\n",
       " 'realization',\n",
       " 'admiration']"
      ]
     },
     "execution_count": 11,
     "metadata": {},
     "output_type": "execute_result"
    }
   ],
   "source": [
    "labels[:100]"
   ]
  },
  {
   "cell_type": "code",
   "execution_count": 12,
   "id": "48547ed8-a33c-4aa6-85b9-f4aa7de8ba62",
   "metadata": {},
   "outputs": [
    {
     "data": {
      "text/html": [
       "<div>\n",
       "<style scoped>\n",
       "    .dataframe tbody tr th:only-of-type {\n",
       "        vertical-align: middle;\n",
       "    }\n",
       "\n",
       "    .dataframe tbody tr th {\n",
       "        vertical-align: top;\n",
       "    }\n",
       "\n",
       "    .dataframe thead th {\n",
       "        text-align: right;\n",
       "    }\n",
       "</style>\n",
       "<table border=\"1\" class=\"dataframe\">\n",
       "  <thead>\n",
       "    <tr style=\"text-align: right;\">\n",
       "      <th></th>\n",
       "      <th>comments</th>\n",
       "      <th>labels</th>\n",
       "    </tr>\n",
       "  </thead>\n",
       "  <tbody>\n",
       "    <tr>\n",
       "      <th>0</th>\n",
       "      <td>Only The Weeknd would randomly drop a music vi...</td>\n",
       "      <td>love</td>\n",
       "    </tr>\n",
       "    <tr>\n",
       "      <th>1</th>\n",
       "      <td>The Weeknd KNOWS we asked for this. Happy birt...</td>\n",
       "      <td>excitement</td>\n",
       "    </tr>\n",
       "    <tr>\n",
       "      <th>2</th>\n",
       "      <td>Anyone 2024?</td>\n",
       "      <td>neutral</td>\n",
       "    </tr>\n",
       "    <tr>\n",
       "      <th>3</th>\n",
       "      <td>This song never fails to send chills down my s...</td>\n",
       "      <td>love</td>\n",
       "    </tr>\n",
       "    <tr>\n",
       "      <th>4</th>\n",
       "      <td>A message to future generations, Don’t let thi...</td>\n",
       "      <td>caring</td>\n",
       "    </tr>\n",
       "  </tbody>\n",
       "</table>\n",
       "</div>"
      ],
      "text/plain": [
       "                                            comments      labels\n",
       "0  Only The Weeknd would randomly drop a music vi...        love\n",
       "1  The Weeknd KNOWS we asked for this. Happy birt...  excitement\n",
       "2                                       Anyone 2024?     neutral\n",
       "3  This song never fails to send chills down my s...        love\n",
       "4  A message to future generations, Don’t let thi...      caring"
      ]
     },
     "execution_count": 12,
     "metadata": {},
     "output_type": "execute_result"
    }
   ],
   "source": [
    "import pandas as pd\n",
    "df = pd.DataFrame(list(zip(comments, labels)),columns=['comments','labels'])\n",
    "df.head()"
   ]
  },
  {
   "cell_type": "code",
   "execution_count": 17,
   "id": "3b998c2f-da6f-4905-87bf-6924ff9da086",
   "metadata": {},
   "outputs": [
    {
     "ename": "NameError",
     "evalue": "name 'swarm_plot' is not defined",
     "output_type": "error",
     "traceback": [
      "\u001b[1;31m---------------------------------------------------------------------------\u001b[0m",
      "\u001b[1;31mNameError\u001b[0m                                 Traceback (most recent call last)",
      "Cell \u001b[1;32mIn[17], line 4\u001b[0m\n\u001b[0;32m      2\u001b[0m sns\u001b[38;5;241m.\u001b[39mset_palette(\u001b[38;5;124m\"\u001b[39m\u001b[38;5;124mSet1\u001b[39m\u001b[38;5;124m\"\u001b[39m)\n\u001b[0;32m      3\u001b[0m sns\u001b[38;5;241m.\u001b[39mbarplot(labels)\n\u001b[1;32m----> 4\u001b[0m fig \u001b[38;5;241m=\u001b[39m \u001b[43mswarm_plot\u001b[49m\u001b[38;5;241m.\u001b[39mget_figure()\n\u001b[0;32m      5\u001b[0m \u001b[38;5;28mtype\u001b[39m(fig)\n",
      "\u001b[1;31mNameError\u001b[0m: name 'swarm_plot' is not defined"
     ]
    },
    {
     "data": {
      "image/png": "[encoded data removed]",
      "text/plain": [
       "<Figure size 640x480 with 1 Axes>"
      ]
     },
     "metadata": {},
     "output_type": "display_data"
    }
   ],
   "source": [
    "import seaborn as sns\n",
    "sns.set_palette(\"Set1\")\n",
    "barplot =sns.barplot(labels)\n",
    "fig = swarm_plot.get_figure()\n",
    "type(fig)"
   ]
  },
  {
   "cell_type": "code",
   "execution_count": 14,
   "id": "b30f8c0a-05da-4f05-ba39-4a8a5535251d",
   "metadata": {},
   "outputs": [
    {
     "data": {
      "text/plain": [
       "labels\n",
       "admiration     49\n",
       "love           38\n",
       "neutral        36\n",
       "gratitude       5\n",
       "joy             5\n",
       "sadness         4\n",
       "approval        3\n",
       "excitement      3\n",
       "disapproval     3\n",
       "surprise        2\n",
       "optimism        2\n",
       "desire          2\n",
       "caring          2\n",
       "amusement       1\n",
       "anger           1\n",
       "realization     1\n",
       "annoyance       1\n",
       "Name: count, dtype: int64"
      ]
     },
     "execution_count": 14,
     "metadata": {},
     "output_type": "execute_result"
    }
   ],
   "source": [
    "df['labels'].value_counts()"
   ]
  },
  {
   "cell_type": "code",
   "execution_count": 15,
   "id": "76281b2b-8485-4535-a056-8487b7c77cce",
   "metadata": {},
   "outputs": [],
   "source": [
    "comments_counts =  dict(df['labels'].value_counts())"
   ]
  },
  {
   "cell_type": "code",
   "execution_count": 16,
   "id": "947bc3da-203f-44d0-9b10-06c30852bb60",
   "metadata": {},
   "outputs": [
    {
     "name": "stdout",
     "output_type": "stream",
     "text": [
      "49  People have admiration felling towards the video\n",
      "38  People have love felling towards the video\n",
      "36  People have neutral felling towards the video\n",
      "5  People have gratitude felling towards the video\n",
      "5  People have joy felling towards the video\n",
      "4  People have sadness felling towards the video\n",
      "3  People have approval felling towards the video\n",
      "3  People have excitement felling towards the video\n",
      "3  People have disapproval felling towards the video\n",
      "2  People have surprise felling towards the video\n",
      "2  People have optimism felling towards the video\n",
      "2  People have desire felling towards the video\n",
      "2  People have caring felling towards the video\n",
      "1  Person has amusement felling towards the video\n",
      "1  Person has anger felling towards the video\n",
      "1  Person has realization felling towards the video\n",
      "1  Person has annoyance felling towards the video\n"
     ]
    }
   ],
   "source": [
    "for key,value in comments_counts.items():\n",
    "    noun = \"People\" if value > 1 else \"Person\"\n",
    "    verb = \"have\" if value > 1 else \"has\"\n",
    "    print(f\"{value}  {noun} {verb} {key} felling towards the video\")"
   ]
  },
  {
   "cell_type": "code",
   "execution_count": null,
   "id": "96c5767c-5b78-4706-b90e-2d677c18c448",
   "metadata": {},
   "outputs": [],
   "source": []
  }
 ],
 "metadata": {
  "kernelspec": {
   "display_name": "Python 3 (ipykernel)",
   "language": "python",
   "name": "python3"
  },
  "language_info": {
   "codemirror_mode": {
    "name": "ipython",
    "version": 3
   },
   "file_extension": ".py",
   "mimetype": "text/x-python",
   "name": "python",
   "nbconvert_exporter": "python",
   "pygments_lexer": "ipython3",
   "version": "3.11.4"
  }
 },
 "nbformat": 4,
 "nbformat_minor": 5
}
