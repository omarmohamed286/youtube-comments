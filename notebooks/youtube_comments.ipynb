{
 "cells": [
  {
   "cell_type": "code",
   "execution_count": 21,
   "id": "8f51bf24-1f3c-4b2e-89c4-90d6316a08f8",
   "metadata": {},
   "outputs": [],
   "source": [
    "from transformers import pipeline\n",
    "\n",
    "pipe = pipeline(\"text-classification\", model=\"SamLowe/roberta-base-go_emotions\")"
   ]
  },
  {
   "cell_type": "code",
   "execution_count": 22,
   "id": "b513ef3e-32c6-485d-95f4-2d69cc8b3714",
   "metadata": {},
   "outputs": [
    {
     "data": {
      "text/plain": [
       "[{'label': 'disapproval', 'score': 0.8423246145248413}]"
      ]
     },
     "execution_count": 22,
     "metadata": {},
     "output_type": "execute_result"
    }
   ],
   "source": [
    "sentences = [\"i didn't like this video\",'the video was amazing! keep going']\n",
    "pipe(sentences[0])"
   ]
  },
  {
   "cell_type": "code",
   "execution_count": 23,
   "id": "7b0aa5ff-be32-41ce-9215-8728f1053712",
   "metadata": {},
   "outputs": [
    {
     "data": {
      "text/plain": [
       "[{'label': 'admiration', 'score': 0.9416797757148743}]"
      ]
     },
     "execution_count": 23,
     "metadata": {},
     "output_type": "execute_result"
    }
   ],
   "source": [
    "pipe(sentences[1])"
   ]
  },
  {
   "cell_type": "code",
   "execution_count": 24,
   "id": "74ff0473-0ee9-4f76-8158-e1f7795cf12d",
   "metadata": {},
   "outputs": [],
   "source": [
    "from time import sleep\n",
    "from selenium import webdriver\n",
    "from selenium.webdriver.common.by import By"
   ]
  },
  {
   "cell_type": "code",
   "execution_count": 25,
   "id": "3f3f06ea-d060-4c01-a3f9-cda511db4278",
   "metadata": {},
   "outputs": [],
   "source": [
    "def get_video_comments(video_url):\n",
    "    data=[]\n",
    "\n",
    "    driver = webdriver.Chrome()\n",
    "    driver.get(video_url)\n",
    "\n",
    "    driver.maximize_window()\n",
    "\n",
    "    for i in range(30):\n",
    "        driver.execute_script(\"window.scrollBy(0,700)\",\"\")\n",
    "        sleep(2)\n",
    "    \n",
    "    comment=driver.find_elements(By.XPATH,\"\"\"//*[@id=\"content-text\"]/span\"\"\")\n",
    "    for i in comment:\n",
    "        if i.text and i.text != ' ' and len(i.text) <= 512 :\n",
    "            data.append(i.text)\n",
    "\n",
    "    return data"
   ]
  },
  {
   "cell_type": "code",
   "execution_count": 26,
   "id": "a056c2fd-db2c-4cdf-b64c-615e4fb6dd40",
   "metadata": {},
   "outputs": [],
   "source": [
    "comments = get_video_comments(\"https://www.youtube.com/watch?v=uPD0QOGTmMI\")"
   ]
  },
  {
   "cell_type": "code",
   "execution_count": 27,
   "id": "ef0bee84-958b-4911-828c-b689d74883a8",
   "metadata": {},
   "outputs": [
    {
     "data": {
      "text/plain": [
       "99"
      ]
     },
     "execution_count": 27,
     "metadata": {},
     "output_type": "execute_result"
    }
   ],
   "source": [
    "len(comments)"
   ]
  },
  {
   "cell_type": "code",
   "execution_count": 28,
   "id": "70dbd193-1b41-4fb0-9531-cdbed6cac555",
   "metadata": {},
   "outputs": [
    {
     "data": {
      "text/plain": [
       "['Only The Weeknd would randomly drop a music video for a song 5 years later. ',\n",
       " \"Honestly, there's nothing wrong with that because there are so many great songs that I would love to see music videos from him.\",\n",
       " 'When this came out I was homeless, on drugs, and then jail. I now have a house, job, and husband. This song and “Clover Cage - The Chess Piece” are the two songs that helped get rid of my depression. I just want to send love to everyone and I want everyone to know things will get better. We are in this together..I love you ',\n",
       " 'Grateful to be signed to the xo family ',\n",
       " 'When this came out I was homeless, on drugs, and then jail. I now have a house, job, and husband. This song and “Clover Cage - In The Sky” are the two songs that helped get rid of my depression. I just want to send love to everyone and I want everyone to know things will get better. We are in this together..I love you ',\n",
       " '5 years later ',\n",
       " ' I had this on repeat when I was 15 lol',\n",
       " \"This song really hits different in so many ways, for so many people. It is very special, unique and  it truly is a master piece. To the Future generations please don't let this song die \",\n",
       " 'His voice',\n",
       " '️',\n",
       " \"If love doesn't actually feel like this, I don’t want it\",\n",
       " 'The day this video was released was the day my daughter was born. I’ll never forget it. Now we sing to it! This song and “Clover Cage - Warr Is Only Won With Love” are the two songs keeping me sane through these tough times. I just want to send love to everyone and I want everyone to know things will get better. We are in this together..I love you ',\n",
       " 'This song is a masterpiece ',\n",
       " '️',\n",
       " 'Masterpiecee',\n",
       " 'Vício de música ',\n",
       " 'The weeknd is the ONLY artist that could bring a music video for a 5 year old song. ',\n",
       " 'I love it even more so ',\n",
       " '️',\n",
       " 'I will admit Starboy is the reason why I became a Weeknd Stan, too many masterpieces in one album.',\n",
       " 'That song is incredible good',\n",
       " 'I LOVE THIS ',\n",
       " 'Never dedicate this \"masterpiece\" song to the wrong person..',\n",
       " 'sou apaixonada ',\n",
       " \"Can't keep myself from stop loving this song\",\n",
       " 'What a voice',\n",
       " 'Sou apaixonada nessa música ',\n",
       " 'Eu amo The Weeknd ',\n",
       " 'Me encanta esta canción ',\n",
       " ' la amó tanto ',\n",
       " '️',\n",
       " 'Esta música me leva a outra dimensão ... Obrigado The weeknd',\n",
       " 'Excelente ',\n",
       " 'Escuchar está canción es como sentirse en otra dimensión ',\n",
       " 'Olha eu mais uma vez aqui ',\n",
       " ' amo essa música ',\n",
       " '.',\n",
       " 'Reasons I love the Weeknd are-',\n",
       " '1. He is different from every artist in the industry no one can predict him.',\n",
       " '2. He is the only artist who can drop a music video after 5 years of the song',\n",
       " '3. He listens to his fans completely eg- Many fans requested him to drop music video of Die for You and he dropped it',\n",
       " '️',\n",
       " '️',\n",
       " '️ Love you XOXO',\n",
       " 'I can listen to this song 24 hrs a day! Masterpiece ',\n",
       " 'this track is absolute masterpiece. ',\n",
       " \"Weeknd is so dope. I can't stop watching this track again and again. I am sure he will be #1 soon due to \",\n",
       " ' a u t h e n t I c v i e w s ',\n",
       " 'The power in this song. omg. I saw this live and almost fainted from how beautiful it sounded. the whole stadium was singing along ',\n",
       " \"Weeknd's power:\",\n",
       " 'the more you listen, the more you want. It can not be stopped, interminable satisfaction',\n",
       " 'This son is truly a master peace ',\n",
       " \"I'm findin' ways to articulate the feeling I'm goin' through\",\n",
       " 'この気持ちを表し方を見つけてるところなんだ',\n",
       " \"I just can't say I don't love you\",\n",
       " '君を愛してないだなんて言えないよ',\n",
       " 'The Weeknd deserves a 100 Grammy Award, his songs are so fcking dope and meaningful ',\n",
       " '.. don’t argue with me ',\n",
       " 'It has been exactly two years, and this song is still a ',\n",
       " 'BANGER!!!',\n",
       " 'This song and “Clover Cage - The Chess Piece” are the two songs that are helping me get through these crazy times. I just want to send love to everyone and I want everyone to know things will get better. We are in this together..I love you ',\n",
       " 'The weeknd te amoooooo ',\n",
       " 'Hell of a music video released 5 years later. I mean wow, look at the story.',\n",
       " 'A boy escaping an asylum to be with his girl is amazing. The Weeknd is always putting characters into his music, and that’s what I love about him. But a lot of the times he’s the character, all of his music represents the character.',\n",
       " 'Me sinto mal',\n",
       " 'Crise de ansiedade',\n",
       " 'Tô ouvindo the weekend pra ver se passa',\n",
       " 'A SONG ',\n",
       " 'I  CAN NEVERRRRRRRRR GET TIRED OF',\n",
       " 'This song ',\n",
       " 'The weeknd is an absolute genius and his songs will be still listened in 100 years. I‘m listenig to starboy everyday and it‘s nearly 5 years old. His songs will never get old. Every album was an absolute brain banging hit.',\n",
       " 'I‘m so in love with him and his music.',\n",
       " 'Cause I love you ',\n",
       " 'The day this video was released was the day my daughter was born. I’ll never forget it. Now we sing to it! This song and “Clover Cage - The Toy Store” are the two songs keeping me sane through these tough times. I just want to send love to everyone and I want everyone to know things will get better. We are in this together..I love you ',\n",
       " 'Love this song',\n",
       " 'man, honestly, youre so good no one can even be dissapointed at you for being 5 years late ',\n",
       " 'This was one the most underrated songs on his album but my personal fav for years, it’s so cool to see how much this song has grown on people ',\n",
       " ' I’ll be hitting every single note forever ',\n",
       " 'I really love this song',\n",
       " 'This song is one of my favourite',\n",
       " 'This is a song that I can not start listening to',\n",
       " 'This song has touched my heart',\n",
       " 'I remember waiting for this album to drop 5 years ago, I was on thanksgiving break during my first year of college. I had just watched Mania, which was the set of short music videos that previewed some songs off the album. Finally hearing the songs and seeing the video for Starboy was a magical time, and having the album with me once I left home again helped my homesickness. ',\n",
       " 'This song never gets old. A perfect masterpiece!! ',\n",
       " 'king of music ',\n",
       " 'Healer of hearts and souls',\n",
       " '️',\n",
       " '️',\n",
       " '️',\n",
       " 'This song is so meaningful for me',\n",
       " 'I used to sing this in the car on the way to work when I was pregnant with my son. I was the only one working, my husband lost his job in the second trimester and became depressed. Rough times, but this song is a good memory. My son loves the Weeknd now and sings along with \"In your eyes\" ',\n",
       " \"The weeknd's video clips always gave me 'Stranger Things' vibes because of the neon lights and dark atmosphere so this is perfect \",\n",
       " 'Absolutely beautiful music ',\n",
       " \"I used to be a fan, but after hearing this masterpiece from The Weeknd, I'm a whole air conditioner now \",\n",
       " 'This is still a banger till this day',\n",
       " 'A n y o n e   in   2 0 2 4 ',\n",
       " '️',\n",
       " '️',\n",
       " 'he knows how much we like this song he’s such a genius for dropping a music video honestly i love him so much XOTWOD']"
      ]
     },
     "execution_count": 28,
     "metadata": {},
     "output_type": "execute_result"
    }
   ],
   "source": [
    "comments[:100]"
   ]
  },
  {
   "cell_type": "code",
   "execution_count": 29,
   "id": "60a506df-c94b-4501-8e48-e99a4d3ff165",
   "metadata": {},
   "outputs": [],
   "source": [
    "def get_comments_labels(comments):\n",
    "    labels = []\n",
    "    for comment in comments:\n",
    "        labels.append(pipe(comment)[0]['label'])\n",
    "    return labels"
   ]
  },
  {
   "cell_type": "code",
   "execution_count": 30,
   "id": "d89cfcbd-9c69-4898-a551-9cb528b467f2",
   "metadata": {},
   "outputs": [],
   "source": [
    "labels = get_comments_labels(comments)"
   ]
  },
  {
   "cell_type": "code",
   "execution_count": 31,
   "id": "87902b95-5812-4687-aeaf-d476ad6e3e01",
   "metadata": {},
   "outputs": [
    {
     "data": {
      "text/plain": [
       "['neutral',\n",
       " 'love',\n",
       " 'love',\n",
       " 'joy',\n",
       " 'love',\n",
       " 'neutral',\n",
       " 'amusement',\n",
       " 'admiration',\n",
       " 'neutral',\n",
       " 'neutral',\n",
       " 'disapproval',\n",
       " 'love',\n",
       " 'admiration',\n",
       " 'neutral',\n",
       " 'neutral',\n",
       " 'neutral',\n",
       " 'neutral',\n",
       " 'love',\n",
       " 'neutral',\n",
       " 'approval',\n",
       " 'admiration',\n",
       " 'love',\n",
       " 'disapproval',\n",
       " 'neutral',\n",
       " 'love',\n",
       " 'admiration',\n",
       " 'neutral',\n",
       " 'neutral',\n",
       " 'neutral',\n",
       " 'neutral',\n",
       " 'neutral',\n",
       " 'neutral',\n",
       " 'neutral',\n",
       " 'neutral',\n",
       " 'neutral',\n",
       " 'neutral',\n",
       " 'neutral',\n",
       " 'love',\n",
       " 'neutral',\n",
       " 'neutral',\n",
       " 'neutral',\n",
       " 'neutral',\n",
       " 'neutral',\n",
       " 'love',\n",
       " 'admiration',\n",
       " 'admiration',\n",
       " 'excitement',\n",
       " 'neutral',\n",
       " 'admiration',\n",
       " 'neutral',\n",
       " 'neutral',\n",
       " 'admiration',\n",
       " 'neutral',\n",
       " 'neutral',\n",
       " 'love',\n",
       " 'neutral',\n",
       " 'admiration',\n",
       " 'anger',\n",
       " 'neutral',\n",
       " 'neutral',\n",
       " 'love',\n",
       " 'neutral',\n",
       " 'surprise',\n",
       " 'admiration',\n",
       " 'neutral',\n",
       " 'neutral',\n",
       " 'neutral',\n",
       " 'neutral',\n",
       " 'annoyance',\n",
       " 'neutral',\n",
       " 'admiration',\n",
       " 'love',\n",
       " 'love',\n",
       " 'love',\n",
       " 'love',\n",
       " 'admiration',\n",
       " 'admiration',\n",
       " 'neutral',\n",
       " 'love',\n",
       " 'love',\n",
       " 'annoyance',\n",
       " 'love',\n",
       " 'joy',\n",
       " 'admiration',\n",
       " 'neutral',\n",
       " 'neutral',\n",
       " 'neutral',\n",
       " 'neutral',\n",
       " 'neutral',\n",
       " 'admiration',\n",
       " 'sadness',\n",
       " 'admiration',\n",
       " 'admiration',\n",
       " 'neutral',\n",
       " 'neutral',\n",
       " 'neutral',\n",
       " 'neutral',\n",
       " 'neutral',\n",
       " 'love']"
      ]
     },
     "execution_count": 31,
     "metadata": {},
     "output_type": "execute_result"
    }
   ],
   "source": [
    "labels[:100]"
   ]
  },
  {
   "cell_type": "code",
   "execution_count": 32,
   "id": "48547ed8-a33c-4aa6-85b9-f4aa7de8ba62",
   "metadata": {},
   "outputs": [
    {
     "data": {
      "text/html": [
       "<div>\n",
       "<style scoped>\n",
       "    .dataframe tbody tr th:only-of-type {\n",
       "        vertical-align: middle;\n",
       "    }\n",
       "\n",
       "    .dataframe tbody tr th {\n",
       "        vertical-align: top;\n",
       "    }\n",
       "\n",
       "    .dataframe thead th {\n",
       "        text-align: right;\n",
       "    }\n",
       "</style>\n",
       "<table border=\"1\" class=\"dataframe\">\n",
       "  <thead>\n",
       "    <tr style=\"text-align: right;\">\n",
       "      <th></th>\n",
       "      <th>comments</th>\n",
       "      <th>labels</th>\n",
       "    </tr>\n",
       "  </thead>\n",
       "  <tbody>\n",
       "    <tr>\n",
       "      <th>0</th>\n",
       "      <td>Only The Weeknd would randomly drop a music vi...</td>\n",
       "      <td>neutral</td>\n",
       "    </tr>\n",
       "    <tr>\n",
       "      <th>1</th>\n",
       "      <td>Honestly, there's nothing wrong with that beca...</td>\n",
       "      <td>love</td>\n",
       "    </tr>\n",
       "    <tr>\n",
       "      <th>2</th>\n",
       "      <td>When this came out I was homeless, on drugs, a...</td>\n",
       "      <td>love</td>\n",
       "    </tr>\n",
       "    <tr>\n",
       "      <th>3</th>\n",
       "      <td>Grateful to be signed to the xo family</td>\n",
       "      <td>joy</td>\n",
       "    </tr>\n",
       "    <tr>\n",
       "      <th>4</th>\n",
       "      <td>When this came out I was homeless, on drugs, a...</td>\n",
       "      <td>love</td>\n",
       "    </tr>\n",
       "  </tbody>\n",
       "</table>\n",
       "</div>"
      ],
      "text/plain": [
       "                                            comments   labels\n",
       "0  Only The Weeknd would randomly drop a music vi...  neutral\n",
       "1  Honestly, there's nothing wrong with that beca...     love\n",
       "2  When this came out I was homeless, on drugs, a...     love\n",
       "3            Grateful to be signed to the xo family       joy\n",
       "4  When this came out I was homeless, on drugs, a...     love"
      ]
     },
     "execution_count": 32,
     "metadata": {},
     "output_type": "execute_result"
    }
   ],
   "source": [
    "import pandas as pd\n",
    "df = pd.DataFrame(list(zip(comments, labels)),columns=['comments','labels'])\n",
    "df.head()"
   ]
  },
  {
   "cell_type": "code",
   "execution_count": 33,
   "id": "3b998c2f-da6f-4905-87bf-6924ff9da086",
   "metadata": {},
   "outputs": [
    {
     "data": {
      "image/png": "[encoded data removed]",
      "text/plain": [
       "<Figure size 2000x2000 with 1 Axes>"
      ]
     },
     "metadata": {},
     "output_type": "display_data"
    }
   ],
   "source": [
    "import seaborn as sns\n",
    "sns.set_palette(\"Set1\")\n",
    "barplot = sns.barplot(labels)\n",
    "fig = barplot.get_figure()\n",
    "fig.savefig('image.png')"
   ]
  },
  {
   "cell_type": "code",
   "execution_count": 34,
   "id": "b30f8c0a-05da-4f05-ba39-4a8a5535251d",
   "metadata": {},
   "outputs": [
    {
     "data": {
      "text/plain": [
       "labels\n",
       "neutral        51\n",
       "love           19\n",
       "admiration     17\n",
       "joy             2\n",
       "disapproval     2\n",
       "annoyance       2\n",
       "amusement       1\n",
       "approval        1\n",
       "excitement      1\n",
       "anger           1\n",
       "surprise        1\n",
       "sadness         1\n",
       "Name: count, dtype: int64"
      ]
     },
     "execution_count": 34,
     "metadata": {},
     "output_type": "execute_result"
    }
   ],
   "source": [
    "df['labels'].value_counts()"
   ]
  },
  {
   "cell_type": "code",
   "execution_count": 35,
   "id": "76281b2b-8485-4535-a056-8487b7c77cce",
   "metadata": {},
   "outputs": [],
   "source": [
    "comments_counts =  dict(df['labels'].value_counts())"
   ]
  },
  {
   "cell_type": "code",
   "execution_count": 36,
   "id": "947bc3da-203f-44d0-9b10-06c30852bb60",
   "metadata": {},
   "outputs": [
    {
     "name": "stdout",
     "output_type": "stream",
     "text": [
      "51  People have neutral felling towards the video\n",
      "19  People have love felling towards the video\n",
      "17  People have admiration felling towards the video\n",
      "2  People have joy felling towards the video\n",
      "2  People have disapproval felling towards the video\n",
      "2  People have annoyance felling towards the video\n",
      "1  Person has amusement felling towards the video\n",
      "1  Person has approval felling towards the video\n",
      "1  Person has excitement felling towards the video\n",
      "1  Person has anger felling towards the video\n",
      "1  Person has surprise felling towards the video\n",
      "1  Person has sadness felling towards the video\n"
     ]
    }
   ],
   "source": [
    "for key,value in comments_counts.items():\n",
    "    noun = \"People\" if value > 1 else \"Person\"\n",
    "    verb = \"have\" if value > 1 else \"has\"\n",
    "    print(f\"{value}  {noun} {verb} {key} felling towards the video\")"
   ]
  },
  {
   "cell_type": "code",
   "execution_count": null,
   "id": "96c5767c-5b78-4706-b90e-2d677c18c448",
   "metadata": {},
   "outputs": [],
   "source": []
  }
 ],
 "metadata": {
  "kernelspec": {
   "display_name": "Python 3 (ipykernel)",
   "language": "python",
   "name": "python3"
  },
  "language_info": {
   "codemirror_mode": {
    "name": "ipython",
    "version": 3
   },
   "file_extension": ".py",
   "mimetype": "text/x-python",
   "name": "python",
   "nbconvert_exporter": "python",
   "pygments_lexer": "ipython3",
   "version": "3.11.4"
  }
 },
 "nbformat": 4,
 "nbformat_minor": 5
}
